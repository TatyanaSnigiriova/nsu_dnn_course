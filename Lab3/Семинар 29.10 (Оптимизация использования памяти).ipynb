{
 "cells": [
  {
   "cell_type": "code",
   "execution_count": null,
   "metadata": {
    "id": "xXUDeSQdHfNH"
   },
   "outputs": [],
   "source": [
    "import torch\n",
    "import time\n",
    "\n",
    "def cuda_memory():\n",
    "    torch.cuda.synchronize()\n",
    "    torch.cuda.empty_cache()\n",
    "    time.sleep(0.5)\n",
    "    print(torch.cuda.memory_allocated(0)) # В байтах"
   ]
  },
  {
   "cell_type": "code",
   "execution_count": null,
   "metadata": {
    "id": "nlyzPoqXHsEJ"
   },
   "outputs": [],
   "source": [
    "# Объяснить про неиспользуемые ноды в backward."
   ]
  },
  {
   "cell_type": "code",
   "execution_count": null,
   "metadata": {
    "colab": {
     "base_uri": "https://localhost:8080/"
    },
    "executionInfo": {
     "elapsed": 2821,
     "status": "ok",
     "timestamp": 1636022334991,
     "user": {
      "displayName": "Татьяна Олеговна Колесник",
      "photoUrl": "https://lh3.googleusercontent.com/a-/AOh14Gi0MLe-IlfbXedZKWigU6ZezyZWA4NOj4FRss4Xrw=s64",
      "userId": "02248799884565451042"
     },
     "user_tz": -420
    },
    "id": "JKv0hHLvP0sO",
    "outputId": "04c7d54b-18e9-4c97-9ab9-99fb36f8db40"
   },
   "outputs": [
    {
     "name": "stdout",
     "output_type": "stream",
     "text": [
      "1000448\n"
     ]
    }
   ],
   "source": [
    "x = torch.zeros(500, 500, dtype=torch.float32, requires_grad=True, device='cuda')\n",
    "cuda_memory() \n",
    "# 1000448 - 500 * 500 * 4 = 448 байт (112 по 4 байта) на requires_grad?"
   ]
  },
  {
   "cell_type": "code",
   "execution_count": null,
   "metadata": {
    "colab": {
     "base_uri": "https://localhost:8080/"
    },
    "executionInfo": {
     "elapsed": 500,
     "status": "ok",
     "timestamp": 1636022335482,
     "user": {
      "displayName": "Татьяна Олеговна Колесник",
      "photoUrl": "https://lh3.googleusercontent.com/a-/AOh14Gi0MLe-IlfbXedZKWigU6ZezyZWA4NOj4FRss4Xrw=s64",
      "userId": "02248799884565451042"
     },
     "user_tz": -420
    },
    "id": "f5DWInwER9ov",
    "outputId": "2481f1ef-afc4-40d3-b020-f1be2f1ca7f7"
   },
   "outputs": [
    {
     "name": "stdout",
     "output_type": "stream",
     "text": [
      "1000960\n"
     ]
    }
   ],
   "source": [
    "a2 = (x + x + x + x).sum()\n",
    "cuda_memory()\n",
    "# 1000960 - 1000448 = 512 (128 по 4 байта)"
   ]
  },
  {
   "cell_type": "code",
   "execution_count": null,
   "metadata": {
    "colab": {
     "base_uri": "https://localhost:8080/"
    },
    "executionInfo": {
     "elapsed": 529,
     "status": "ok",
     "timestamp": 1636022336007,
     "user": {
      "displayName": "Татьяна Олеговна Колесник",
      "photoUrl": "https://lh3.googleusercontent.com/a-/AOh14Gi0MLe-IlfbXedZKWigU6ZezyZWA4NOj4FRss4Xrw=s64",
      "userId": "02248799884565451042"
     },
     "user_tz": -420
    },
    "id": "XXAb0u3uUL4A",
    "outputId": "716f8af9-9e99-4ebe-ce4c-33f324b09275"
   },
   "outputs": [
    {
     "name": "stdout",
     "output_type": "stream",
     "text": [
      "1000960\n"
     ]
    }
   ],
   "source": [
    "a2 = a2.sum()\n",
    "cuda_memory()\n",
    "# 1001472 - 1000960 = 512"
   ]
  },
  {
   "cell_type": "code",
   "execution_count": null,
   "metadata": {
    "colab": {
     "base_uri": "https://localhost:8080/"
    },
    "executionInfo": {
     "elapsed": 358,
     "status": "ok",
     "timestamp": 1636022338420,
     "user": {
      "displayName": "Татьяна Олеговна Колесник",
      "photoUrl": "https://lh3.googleusercontent.com/a-/AOh14Gi0MLe-IlfbXedZKWigU6ZezyZWA4NOj4FRss4Xrw=s64",
      "userId": "02248799884565451042"
     },
     "user_tz": -420
    },
    "id": "C7AQz3F337jq",
    "outputId": "0bc4c7bd-ce8a-4ef0-c154-026388ada68e"
   },
   "outputs": [
    {
     "name": "stdout",
     "output_type": "stream",
     "text": [
      "None\n"
     ]
    }
   ],
   "source": [
    "print(x.grad)"
   ]
  },
  {
   "cell_type": "code",
   "execution_count": null,
   "metadata": {
    "colab": {
     "base_uri": "https://localhost:8080/"
    },
    "executionInfo": {
     "elapsed": 1371,
     "status": "ok",
     "timestamp": 1636022397222,
     "user": {
      "displayName": "Татьяна Олеговна Колесник",
      "photoUrl": "https://lh3.googleusercontent.com/a-/AOh14Gi0MLe-IlfbXedZKWigU6ZezyZWA4NOj4FRss4Xrw=s64",
      "userId": "02248799884565451042"
     },
     "user_tz": -420
    },
    "id": "Ol7-sKRSUc0s",
    "outputId": "bcf391f2-732d-4dd9-c563-2ca99592a394"
   },
   "outputs": [
    {
     "name": "stdout",
     "output_type": "stream",
     "text": [
      "2001408\n"
     ]
    }
   ],
   "source": [
    "a2.backward()\n",
    "cuda_memory()"
   ]
  },
  {
   "cell_type": "code",
   "execution_count": null,
   "metadata": {
    "colab": {
     "base_uri": "https://localhost:8080/"
    },
    "executionInfo": {
     "elapsed": 538,
     "status": "ok",
     "timestamp": 1636022443027,
     "user": {
      "displayName": "Татьяна Олеговна Колесник",
      "photoUrl": "https://lh3.googleusercontent.com/a-/AOh14Gi0MLe-IlfbXedZKWigU6ZezyZWA4NOj4FRss4Xrw=s64",
      "userId": "02248799884565451042"
     },
     "user_tz": -420
    },
    "id": "t7_y83ZyVwlT",
    "outputId": "f08f585f-eec1-4890-9449-199e7a75fd70"
   },
   "outputs": [
    {
     "name": "stdout",
     "output_type": "stream",
     "text": [
      "torch.Size([500, 500])\n"
     ]
    }
   ],
   "source": [
    "print(x.grad.shape)"
   ]
  },
  {
   "cell_type": "code",
   "execution_count": null,
   "metadata": {
    "colab": {
     "base_uri": "https://localhost:8080/"
    },
    "executionInfo": {
     "elapsed": 893,
     "status": "ok",
     "timestamp": 1636022447007,
     "user": {
      "displayName": "Татьяна Олеговна Колесник",
      "photoUrl": "https://lh3.googleusercontent.com/a-/AOh14Gi0MLe-IlfbXedZKWigU6ZezyZWA4NOj4FRss4Xrw=s64",
      "userId": "02248799884565451042"
     },
     "user_tz": -420
    },
    "id": "wOU6yZMbVl0g",
    "outputId": "975faea5-c739-4b07-9313-30ebfec89ab1"
   },
   "outputs": [
    {
     "name": "stdout",
     "output_type": "stream",
     "text": [
      "1000960\n"
     ]
    }
   ],
   "source": [
    "x.grad = None\n",
    "cuda_memory()"
   ]
  },
  {
   "cell_type": "code",
   "execution_count": null,
   "metadata": {
    "colab": {
     "base_uri": "https://localhost:8080/"
    },
    "executionInfo": {
     "elapsed": 1008,
     "status": "ok",
     "timestamp": 1636022474706,
     "user": {
      "displayName": "Татьяна Олеговна Колесник",
      "photoUrl": "https://lh3.googleusercontent.com/a-/AOh14Gi0MLe-IlfbXedZKWigU6ZezyZWA4NOj4FRss4Xrw=s64",
      "userId": "02248799884565451042"
     },
     "user_tz": -420
    },
    "id": "PztTYyapWjpb",
    "outputId": "2b5165a7-3f32-4cda-ed1f-6109eac434d9"
   },
   "outputs": [
    {
     "name": "stdout",
     "output_type": "stream",
     "text": [
      "6003200\n"
     ]
    }
   ],
   "source": [
    "a1 = torch.sin(x + 1) + torch.sin(x + 2) + torch.sin(x + 3) + torch.sin(x + 4)\n",
    "cuda_memory()"
   ]
  },
  {
   "cell_type": "code",
   "execution_count": null,
   "metadata": {
    "colab": {
     "base_uri": "https://localhost:8080/"
    },
    "executionInfo": {
     "elapsed": 1253,
     "status": "ok",
     "timestamp": 1636022481475,
     "user": {
      "displayName": "Татьяна Олеговна Колесник",
      "photoUrl": "https://lh3.googleusercontent.com/a-/AOh14Gi0MLe-IlfbXedZKWigU6ZezyZWA4NOj4FRss4Xrw=s64",
      "userId": "02248799884565451042"
     },
     "user_tz": -420
    },
    "id": "Scl8G7ueW2dF",
    "outputId": "08bd75d8-4b64-42f1-a4a4-d03f5b5d30d5"
   },
   "outputs": [
    {
     "name": "stdout",
     "output_type": "stream",
     "text": [
      "5003264\n"
     ]
    }
   ],
   "source": [
    "a1 = a1.sum()\n",
    "cuda_memory()"
   ]
  },
  {
   "cell_type": "code",
   "execution_count": null,
   "metadata": {
    "colab": {
     "base_uri": "https://localhost:8080/"
    },
    "executionInfo": {
     "elapsed": 918,
     "status": "ok",
     "timestamp": 1636022489374,
     "user": {
      "displayName": "Татьяна Олеговна Колесник",
      "photoUrl": "https://lh3.googleusercontent.com/a-/AOh14Gi0MLe-IlfbXedZKWigU6ZezyZWA4NOj4FRss4Xrw=s64",
      "userId": "02248799884565451042"
     },
     "user_tz": -420
    },
    "id": "_qZ9UbZwW4Y_",
    "outputId": "9553544a-1a2c-4ae9-9cf2-0a41204a87f3"
   },
   "outputs": [
    {
     "name": "stdout",
     "output_type": "stream",
     "text": [
      "2001920\n"
     ]
    }
   ],
   "source": [
    "a1.backward()\n",
    "cuda_memory()"
   ]
  },
  {
   "cell_type": "code",
   "execution_count": null,
   "metadata": {
    "colab": {
     "base_uri": "https://localhost:8080/"
    },
    "executionInfo": {
     "elapsed": 383,
     "status": "ok",
     "timestamp": 1636022495348,
     "user": {
      "displayName": "Татьяна Олеговна Колесник",
      "photoUrl": "https://lh3.googleusercontent.com/a-/AOh14Gi0MLe-IlfbXedZKWigU6ZezyZWA4NOj4FRss4Xrw=s64",
      "userId": "02248799884565451042"
     },
     "user_tz": -420
    },
    "id": "TRUUgrkAW7dl",
    "outputId": "28a1942a-1335-498d-932e-0050708da198"
   },
   "outputs": [
    {
     "name": "stdout",
     "output_type": "stream",
     "text": [
      "torch.Size([500, 500])\n"
     ]
    }
   ],
   "source": [
    "print(x.grad.shape)"
   ]
  },
  {
   "cell_type": "code",
   "execution_count": null,
   "metadata": {
    "colab": {
     "base_uri": "https://localhost:8080/"
    },
    "executionInfo": {
     "elapsed": 1013,
     "status": "ok",
     "timestamp": 1636022498587,
     "user": {
      "displayName": "Татьяна Олеговна Колесник",
      "photoUrl": "https://lh3.googleusercontent.com/a-/AOh14Gi0MLe-IlfbXedZKWigU6ZezyZWA4NOj4FRss4Xrw=s64",
      "userId": "02248799884565451042"
     },
     "user_tz": -420
    },
    "id": "LFzHgWY4W8QE",
    "outputId": "2a931a8f-e74e-46a8-e5ce-84b65192b775"
   },
   "outputs": [
    {
     "name": "stdout",
     "output_type": "stream",
     "text": [
      "1001472\n"
     ]
    }
   ],
   "source": [
    "x.grad = None\n",
    "cuda_memory()"
   ]
  },
  {
   "cell_type": "code",
   "execution_count": null,
   "metadata": {
    "colab": {
     "base_uri": "https://localhost:8080/"
    },
    "executionInfo": {
     "elapsed": 1237,
     "status": "ok",
     "timestamp": 1636022502321,
     "user": {
      "displayName": "Татьяна Олеговна Колесник",
      "photoUrl": "https://lh3.googleusercontent.com/a-/AOh14Gi0MLe-IlfbXedZKWigU6ZezyZWA4NOj4FRss4Xrw=s64",
      "userId": "02248799884565451042"
     },
     "user_tz": -420
    },
    "id": "cgGs5SECYudn",
    "outputId": "44136209-e414-4b27-c64f-0672745f9b5e"
   },
   "outputs": [
    {
     "name": "stdout",
     "output_type": "stream",
     "text": [
      "12005888\n"
     ]
    }
   ],
   "source": [
    "a1 = torch.sin(x + 1) * torch.sin(x + 2) * torch.sin(x + 3) * torch.sin(x + 4)\n",
    "cuda_memory()"
   ]
  },
  {
   "cell_type": "code",
   "execution_count": null,
   "metadata": {
    "colab": {
     "base_uri": "https://localhost:8080/"
    },
    "executionInfo": {
     "elapsed": 838,
     "status": "ok",
     "timestamp": 1636022505627,
     "user": {
      "displayName": "Татьяна Олеговна Колесник",
      "photoUrl": "https://lh3.googleusercontent.com/a-/AOh14Gi0MLe-IlfbXedZKWigU6ZezyZWA4NOj4FRss4Xrw=s64",
      "userId": "02248799884565451042"
     },
     "user_tz": -420
    },
    "id": "mwh5Pal6-W_a",
    "outputId": "674a5f02-a012-42d6-d202-7d80513eee5b"
   },
   "outputs": [
    {
     "name": "stdout",
     "output_type": "stream",
     "text": [
      "3001856\n"
     ]
    }
   ],
   "source": [
    "a1.mean().backward()\n",
    "cuda_memory()"
   ]
  },
  {
   "cell_type": "code",
   "execution_count": null,
   "metadata": {
    "colab": {
     "base_uri": "https://localhost:8080/"
    },
    "executionInfo": {
     "elapsed": 388,
     "status": "ok",
     "timestamp": 1636022509864,
     "user": {
      "displayName": "Татьяна Олеговна Колесник",
      "photoUrl": "https://lh3.googleusercontent.com/a-/AOh14Gi0MLe-IlfbXedZKWigU6ZezyZWA4NOj4FRss4Xrw=s64",
      "userId": "02248799884565451042"
     },
     "user_tz": -420
    },
    "id": "CBi2fs47-dPg",
    "outputId": "4a3d5540-e9af-4bf8-e6c0-9da98b453608"
   },
   "outputs": [
    {
     "name": "stderr",
     "output_type": "stream",
     "text": [
      "/usr/local/lib/python3.7/dist-packages/ipykernel_launcher.py:1: UserWarning: The .grad attribute of a Tensor that is not a leaf Tensor is being accessed. Its .grad attribute won't be populated during autograd.backward(). If you indeed want the gradient for a non-leaf Tensor, use .retain_grad() on the non-leaf Tensor. If you access the non-leaf Tensor by mistake, make sure you access the leaf Tensor instead. See github.com/pytorch/pytorch/pull/30531 for more information.\n",
      "  \"\"\"Entry point for launching an IPython kernel.\n"
     ]
    }
   ],
   "source": [
    "a1.grad"
   ]
  },
  {
   "cell_type": "code",
   "execution_count": null,
   "metadata": {
    "id": "yFk7STnKPH2s"
   },
   "outputs": [],
   "source": [
    "def to_tensors(args):\n",
    "    return [torch.tensor(x, requires_grad=True, dtype=torch.float32) for x in args]\n",
    "\n",
    "\n",
    "def print_grad(args):\n",
    "    for x in args:\n",
    "        print(round(x.grad.item(), 3), end=' ')\n",
    "    print()\n",
    "\n",
    "\n",
    "def print_tensors(args):\n",
    "    for x in args:\n",
    "        print(round(x.item(), 3), end=' ')\n",
    "    print()"
   ]
  },
  {
   "cell_type": "code",
   "execution_count": null,
   "metadata": {
    "colab": {
     "base_uri": "https://localhost:8080/"
    },
    "executionInfo": {
     "elapsed": 463,
     "status": "ok",
     "timestamp": 1635476617811,
     "user": {
      "displayName": "Timofey Naumenko",
      "photoUrl": "https://lh3.googleusercontent.com/a-/AOh14Gi_ZmKd5CkG-IqAAu2gmbjN-8bA3wMjNHBlHVEf=s64",
      "userId": "12537715770211987377"
     },
     "user_tz": -420
    },
    "id": "vlWreM-_PI8_",
    "outputId": "baf08666-bb6e-42ae-d75a-a5c7b17692ff"
   },
   "outputs": [
    {
     "name": "stdout",
     "output_type": "stream",
     "text": [
      "-6.073\n",
      "-13.997 9.561 0.455 \n"
     ]
    }
   ],
   "source": [
    "torch.tensor(x, requires_grad=True, dtype=torch.float32)\n",
    "\n",
    "def v0():\n",
    "    x, y, z = 1, -1, 2\n",
    "    x, y, z = to_tensors([x, y, z])\n",
    "    result = torch.sin(x) * torch.cos(y) * (z + 1) + 2 * x * y * (x + torch.exp(x))\n",
    "    return [x, y, z], result\n",
    "\n",
    "[x, y, z], result = v0()\n",
    "result.backward()\n",
    "print(round(result.item(), 3))\n",
    "print_grad([x, y, z])"
   ]
  },
  {
   "cell_type": "code",
   "execution_count": null,
   "metadata": {
    "colab": {
     "base_uri": "https://localhost:8080/"
    },
    "executionInfo": {
     "elapsed": 272,
     "status": "ok",
     "timestamp": 1635476861665,
     "user": {
      "displayName": "Timofey Naumenko",
      "photoUrl": "https://lh3.googleusercontent.com/a-/AOh14Gi_ZmKd5CkG-IqAAu2gmbjN-8bA3wMjNHBlHVEf=s64",
      "userId": "12537715770211987377"
     },
     "user_tz": -420
    },
    "id": "lenOasQVPNzK",
    "outputId": "861f8436-6bbe-4a01-f243-28d2882195b8"
   },
   "outputs": [
    {
     "name": "stdout",
     "output_type": "stream",
     "text": [
      "-6.073\n",
      "-13.997 9.561 0.455 \n"
     ]
    }
   ],
   "source": [
    "x, y, z = 1, -1, 2\n",
    "x, y, z = to_tensors([x, y, z])\n",
    "\n",
    "a1 = torch.sin(x)\n",
    "a2 = torch.cos(y)\n",
    "a3 = a1 * a2\n",
    "a4 = z + 1\n",
    "a5 = a3 * a4\n",
    "a6 = 2 * x\n",
    "a7 = a6 * y\n",
    "a8 = torch.exp(x)\n",
    "a9 = x + a8\n",
    "a10 = a7 * a9\n",
    "a11 = a5 + a10\n",
    "\n",
    "print(round(a11.item(), 3))\n",
    "\n",
    "da11 = 1.0\n",
    "da10 = da11\n",
    "da9 = da10 * a7\n",
    "da8 = da9\n",
    "da7 = da10 * a9\n",
    "da6 = da7 * y\n",
    "da5 = da11\n",
    "da4 = da5 * a3\n",
    "da3 = da5 * a4\n",
    "da2 = da3 * a1\n",
    "da1 = da3 * a2\n",
    "\n",
    "dx = da1 * torch.cos(x) + da6 * 2 + da8 * torch.exp(x) + da9\n",
    "dy = da2 * (-torch.sin(y)) + da7 * a6\n",
    "dz = da4\n",
    "\n",
    "print_tensors([dx, dy, dz])"
   ]
  }
 ],
 "metadata": {
  "colab": {
   "authorship_tag": "ABX9TyNDN8ohQnPLlvSXcS3yAxO1",
   "collapsed_sections": [],
   "name": "Семинар 29.10 (Оптимизация использования памяти).ipynb",
   "provenance": []
  },
  "kernelspec": {
   "display_name": "Python 3 (ipykernel)",
   "language": "python",
   "name": "python3"
  },
  "language_info": {
   "codemirror_mode": {
    "name": "ipython",
    "version": 3
   },
   "file_extension": ".py",
   "mimetype": "text/x-python",
   "name": "python",
   "nbconvert_exporter": "python",
   "pygments_lexer": "ipython3",
   "version": "3.8.13"
  },
  "toc": {
   "base_numbering": 1,
   "nav_menu": {},
   "number_sections": true,
   "sideBar": true,
   "skip_h1_title": false,
   "title_cell": "Table of Contents",
   "title_sidebar": "Contents",
   "toc_cell": false,
   "toc_position": {},
   "toc_section_display": true,
   "toc_window_display": false
  }
 },
 "nbformat": 4,
 "nbformat_minor": 1
}
